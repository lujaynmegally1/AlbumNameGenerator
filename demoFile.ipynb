{
 "cells": [
  {
   "cell_type": "code",
   "execution_count": 1,
   "id": "5c4c6f69",
   "metadata": {},
   "outputs": [],
   "source": [
    "from AlbumNameGenerator import album_name_generator\n",
    "from PIL import Image, ImageDraw, ImageFont"
   ]
  },
  {
   "cell_type": "code",
   "execution_count": 2,
   "id": "c0d96562",
   "metadata": {},
   "outputs": [
    {
     "name": "stdout",
     "output_type": "stream",
     "text": [
      "How many words do you want your album name to be? \n",
      "4\n",
      "What genre do you want your album to be? Choices: Rap, Pop, Rock \n",
      "Pop\n",
      "Forever Time Party Girlz\n"
     ]
    }
   ],
   "source": [
    "myAlbum = album_name_generator()"
   ]
  },
  {
   "cell_type": "code",
   "execution_count": 3,
   "id": "711836bd",
   "metadata": {},
   "outputs": [],
   "source": [
    "def print_album_cover(genre,album_name):\n",
    "    img = Image.open('%s.jpeg' % genre)\n",
    "\n",
    "    d1 = ImageDraw.Draw(img)\n",
    "    font = ImageFont.truetype(\"Gidole-Regular.ttf\", size=60)\n",
    "\n",
    "    W, H = img.size\n",
    "    w, h = d1.textsize(album_name, font = font)\n",
    "    \n",
    "    d1.text((((W-w)/2) ,(H-h)/2), album_name, font = font)\n",
    "    \n",
    "    img.show()\n",
    "    printed_album_cover=img.save(\"MyAlbum.jpeg\")\n",
    "    \n",
    "    return printed_album_cover "
   ]
  },
  {
   "cell_type": "code",
   "execution_count": 4,
   "id": "336b19ae",
   "metadata": {},
   "outputs": [],
   "source": [
    "print_album_cover(myAlbum.genre, myAlbum.album_name)"
   ]
  },
  {
   "cell_type": "code",
   "execution_count": 5,
   "id": "15d422d1",
   "metadata": {},
   "outputs": [
    {
     "data": {
      "text/plain": [
       "'Spark\\nRise\\nDay\\nHappy\\nLove\\nEnergy\\nAlways\\nRush\\nDancing\\nTime\\nFriends\\nSummer\\nWorld\\nParty\\nBaby\\nSugar\\nLights\\nHigh\\nPower\\nBeat\\nLivin’\\nMagic\\nHeart\\nPassion\\nThings\\nToxic\\nPop\\nRhythm\\nForever\\nHabit\\nBad\\nLucky\\nFancy\\nNew\\nHeartbreaker\\nBarbie\\nSmile\\nSweet\\nLoud\\nTruth\\nKiss\\nStyle\\nGirlz\\nMissin’\\nBoyz\\nEx\\nYou\\nSuper\\nHot\\nCold'"
      ]
     },
     "execution_count": 5,
     "metadata": {},
     "output_type": "execute_result"
    }
   ],
   "source": [
    "myAlbum.genre_file()"
   ]
  },
  {
   "cell_type": "code",
   "execution_count": 6,
   "id": "06f2b46f",
   "metadata": {},
   "outputs": [
    {
     "data": {
      "text/plain": [
       "['Spark',\n",
       " 'Rise',\n",
       " 'Day',\n",
       " 'Happy',\n",
       " 'Love',\n",
       " 'Energy',\n",
       " 'Always',\n",
       " 'Rush',\n",
       " 'Dancing',\n",
       " 'Time',\n",
       " 'Friends',\n",
       " 'Summer',\n",
       " 'World',\n",
       " 'Party',\n",
       " 'Baby',\n",
       " 'Sugar',\n",
       " 'Lights',\n",
       " 'High',\n",
       " 'Power',\n",
       " 'Beat',\n",
       " 'Livin’',\n",
       " 'Magic',\n",
       " 'Heart',\n",
       " 'Passion',\n",
       " 'Things',\n",
       " 'Toxic',\n",
       " 'Pop',\n",
       " 'Rhythm',\n",
       " 'Forever',\n",
       " 'Habit',\n",
       " 'Bad',\n",
       " 'Lucky',\n",
       " 'Fancy',\n",
       " 'New',\n",
       " 'Heartbreaker',\n",
       " 'Barbie',\n",
       " 'Smile',\n",
       " 'Sweet',\n",
       " 'Loud',\n",
       " 'Truth',\n",
       " 'Kiss',\n",
       " 'Style',\n",
       " 'Girlz',\n",
       " 'Missin’',\n",
       " 'Boyz',\n",
       " 'Ex',\n",
       " 'You',\n",
       " 'Super',\n",
       " 'Hot',\n",
       " 'Cold']"
      ]
     },
     "execution_count": 6,
     "metadata": {},
     "output_type": "execute_result"
    }
   ],
   "source": [
    "myAlbum.file_list(myAlbum.genre_file())"
   ]
  },
  {
   "cell_type": "code",
   "execution_count": 7,
   "id": "f9eecf28",
   "metadata": {},
   "outputs": [
    {
     "name": "stdout",
     "output_type": "stream",
     "text": [
      "Your album name is: Forever Time Party Girlz!\n"
     ]
    }
   ],
   "source": [
    "print(myAlbum)"
   ]
  }
 ],
 "metadata": {
  "kernelspec": {
   "display_name": "Python 3 (ipykernel)",
   "language": "python",
   "name": "python3"
  },
  "language_info": {
   "codemirror_mode": {
    "name": "ipython",
    "version": 3
   },
   "file_extension": ".py",
   "mimetype": "text/x-python",
   "name": "python",
   "nbconvert_exporter": "python",
   "pygments_lexer": "ipython3",
   "version": "3.9.7"
  }
 },
 "nbformat": 4,
 "nbformat_minor": 5
}
